{
 "cells": [
  {
   "cell_type": "code",
   "execution_count": 5,
   "metadata": {
    "vscode": {
     "languageId": "shellscript"
    }
   },
   "outputs": [
    {
     "name": "stdout",
     "output_type": "stream",
     "text": [
      "58.18s - pydevd: Sending message related to process being replaced timed-out after 5 seconds\n",
      "合計 20\n",
      "drwxr-xr-x. 3 root  root   148  1月  5 16:39 \u001b[0m\u001b[38;5;27m.\u001b[0m/\n",
      "drwxr-xr-x. 3 root  root    24  1月  4 18:20 \u001b[38;5;27m..\u001b[0m/\n",
      "drwxr-xr-x. 3 root  root    20  1月  5 16:39 \u001b[38;5;27mbackup\u001b[0m/\n",
      "-rw-r--r--. 1 root  root   397  1月  5 13:29 cgroup.conf.node03\n",
      "-rw-r--r--. 1 root  root    60  1月  5 13:30 cgroup_allowed_devices.conf.node03\n",
      "-rwxrwxrwx. 1 root  root   128  1月  5 14:17 \u001b[38;5;34mmunge.key\u001b[0m*\n",
      "-rw-r--r--. 1 slurm slurm 3483  1月  5 13:34 slurm.conf\n",
      "-rw-r--r--. 1 root  root  3480  1月  5 13:29 slurm.conf.node03\n"
     ]
    }
   ],
   "source": [
    "ls -al /share/workspaces"
   ]
  }
 ],
 "metadata": {
  "kernelspec": {
   "display_name": "base",
   "language": "python",
   "name": "base"
  },
  "language_info": {
   "codemirror_mode": {
    "name": "ipython",
    "version": 3
   },
   "file_extension": ".py",
   "mimetype": "text/x-python",
   "name": "python",
   "nbconvert_exporter": "python",
   "pygments_lexer": "ipython3",
   "version": "3.11.5"
  }
 },
 "nbformat": 4,
 "nbformat_minor": 2
}
